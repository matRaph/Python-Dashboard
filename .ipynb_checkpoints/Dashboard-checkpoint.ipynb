{
 "cells": [
  {
   "cell_type": "code",
   "execution_count": 164,
   "id": "6a462694",
   "metadata": {},
   "outputs": [],
   "source": [
    "# Importando as bibliotecas e coleções utilizadas\n",
    "import pandas as pd\n",
    "import matplotlib.pyplot as plt\n",
    "import ipywidgets as widgets"
   ]
  },
  {
   "cell_type": "code",
   "execution_count": 165,
   "id": "64f7c306",
   "metadata": {},
   "outputs": [],
   "source": [
    "# Importando planilha excel\n",
    "df = pd.read_excel(\"DadosAtividadePratica.xls\", \"Demandas\")"
   ]
  },
  {
   "cell_type": "code",
   "execution_count": 166,
   "id": "e85235ea",
   "metadata": {
    "scrolled": false
   },
   "outputs": [],
   "source": [
    "# Removendo colunas sem valor ou com valores irrelevantes para o dashboard\n",
    "df = df.drop(['Sala 1', 'Sala 2', 'Sala 3', 'Sala de Aula', 'DA'], axis=1)\n",
    "\n",
    "# Alterando o título da coluna de diretorias para melhor manipulação\n",
    "df = df.rename(columns={'Grupo/Diretoria Oferta':'Diretoria'})\n",
    "\n",
    "# Removendo linha com valor NDPE na coluna de Diretorias\n",
    "df.drop(df.loc[df['Diretoria']=='NDPE'].index, inplace=True)\n"
   ]
  },
  {
   "cell_type": "code",
   "execution_count": 167,
   "id": "fae33915",
   "metadata": {
    "scrolled": false
   },
   "outputs": [],
   "source": [
    "# Unindo diretorias da DIAC\n",
    "diretorias = ['Arte', 'Biologia', 'Educação Física', 'Estatística', 'Filosofia', 'Física', \n",
    "              'Geografia', 'História', 'Língua Espanhola', 'Língua Portuguesa', 'Matemática', \n",
    "              'Química', 'Sociologia', 'Língua Inglesa']\n",
    "df = df.replace(diretorias, 'DIAC')"
   ]
  },
  {
   "cell_type": "code",
   "execution_count": 168,
   "id": "5fd7cb50",
   "metadata": {},
   "outputs": [],
   "source": [
    "# Utilizando a biblioteca ipywidgets para construir a interação\n",
    "wid_diret = widgets.Dropdown(name='Diretoria')"
   ]
  },
  {
   "cell_type": "code",
   "execution_count": 169,
   "id": "a29e1023",
   "metadata": {},
   "outputs": [],
   "source": [
    "# Definindo as opções do widget\n",
    "wid_diret.options = list(df.Diretoria.unique())"
   ]
  },
  {
   "cell_type": "code",
   "execution_count": 174,
   "id": "429ce72e",
   "metadata": {},
   "outputs": [
    {
     "data": {
      "application/vnd.jupyter.widget-view+json": {
       "model_id": "9ec5863a9bca47c6bc093c846e2c8b40",
       "version_major": 2,
       "version_minor": 0
      },
      "text/plain": [
       "interactive(children=(Dropdown(description='diretoria', options=('DIACON', 'DIATINF', 'DIAC', 'DIACIN', 'DIARE…"
      ]
     },
     "metadata": {},
     "output_type": "display_data"
    }
   ],
   "source": [
    "# Definindo função de interação\n",
    "def func(diretoria):\n",
    "    # Criando um novo dataframe recebendo as informações da diretoria selecionada\n",
    "    df_tmp = df[df['Diretoria'] == wid_diret.value].copy()\n",
    "\n",
    "    # Quantidade de linhas (disciplinas)\n",
    "    rows = df_tmp.shape[0]\n",
    "    rows = f'Número de disciplinas: {rows}'\n",
    "    print(rows)\n",
    "\n",
    "interactive_plot = widgets.interactive(func, diretoria=wid_diret)\n",
    "\n",
    "output = interactive_plot.children[-1]\n",
    "output.layout.height = '350px'\n",
    "\n",
    "interactive_plot"
   ]
  }
 ],
 "metadata": {
  "kernelspec": {
   "display_name": "Python 3 (ipykernel)",
   "language": "python",
   "name": "python3"
  },
  "language_info": {
   "codemirror_mode": {
    "name": "ipython",
    "version": 3
   },
   "file_extension": ".py",
   "mimetype": "text/x-python",
   "name": "python",
   "nbconvert_exporter": "python",
   "pygments_lexer": "ipython3",
   "version": "3.10.6"
  }
 },
 "nbformat": 4,
 "nbformat_minor": 5
}
