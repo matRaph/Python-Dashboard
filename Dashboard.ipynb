{
 "cells": [
  {
   "cell_type": "code",
   "execution_count": 1,
   "id": "6a462694",
   "metadata": {},
   "outputs": [],
   "source": [
    "# Importando as bibliotecas e coleções utilizadas\n",
    "import pandas as pd\n",
    "import matplotlib.pyplot as plt\n",
    "import ipywidgets as widgets"
   ]
  },
  {
   "cell_type": "code",
   "execution_count": 2,
   "id": "64f7c306",
   "metadata": {},
   "outputs": [],
   "source": [
    "# Importando planilha excel\n",
    "df = pd.read_excel(\"DadosAtividadePratica.xls\", \"Demandas\")"
   ]
  },
  {
   "cell_type": "code",
   "execution_count": 3,
   "id": "e85235ea",
   "metadata": {
    "scrolled": false
   },
   "outputs": [],
   "source": [
    "# Removendo colunas sem valor ou com valores irrelevantes para o dashboard\n",
    "df = df.drop(['Sala 1', 'Sala 2', 'Sala 3', 'Sala de Aula', 'DA'], axis=1)\n",
    "\n",
    "# Alterando o título da coluna de diretorias para melhor manipulação\n",
    "df = df.rename(columns={'Grupo/Diretoria Oferta':'Diretoria'})\n",
    "\n",
    "# Removendo linha com valor NDPE na coluna de Diretorias\n",
    "df.drop(df.loc[df['Diretoria']=='NDPE'].index, inplace=True)\n"
   ]
  },
  {
   "cell_type": "code",
   "execution_count": 4,
   "id": "29afc465",
   "metadata": {
    "scrolled": false
   },
   "outputs": [],
   "source": [
    "# Unindo diretorias da DIAC\n",
    "diretorias = ['Arte', 'Biologia', 'Educação Física', 'Estatística', 'Filosofia', 'Física', \n",
    "              'Geografia', 'História', 'Língua Espanhola', 'Língua Portuguesa', 'Matemática', \n",
    "              'Química', 'Sociologia', 'Língua Inglesa']\n",
    "df = df.replace(diretorias, 'DIAC')"
   ]
  },
  {
   "cell_type": "code",
   "execution_count": 5,
   "id": "12bc0c75",
   "metadata": {},
   "outputs": [],
   "source": [
    "# Criando opções de gráficos\n",
    "graficos = ['Porcentagem de disciplinas por curso', 'Carga horária média por curso', \n",
    "            'Número de disciplinas por turno', 'Porcentagem de disciplina por turno']"
   ]
  },
  {
   "cell_type": "code",
   "execution_count": 6,
   "id": "21b17dcb",
   "metadata": {},
   "outputs": [],
   "source": [
    "# Utilizando a biblioteca ipywidgets para construir a interação\n",
    "wid_diret = widgets.Dropdown(name='Diretoria')\n",
    "wid_graph = widgets.Dropdown(name='Gráficos')"
   ]
  },
  {
   "cell_type": "code",
   "execution_count": 7,
   "id": "2404ca54",
   "metadata": {},
   "outputs": [],
   "source": [
    "# Definindo as opções do widget\n",
    "wid_diret.options = list(df.Diretoria.unique())\n",
    "wid_graph.options = list(graficos)"
   ]
  },
  {
   "cell_type": "code",
   "execution_count": 8,
   "id": "a1164bf3",
   "metadata": {},
   "outputs": [],
   "source": [
    "# Definindo função de interação\n",
    "def func(diretoria, grafico):\n",
    "    # Criando um novo dataframe recebendo as informações da diretoria selecionada\n",
    "    df_tmp = df[df['Diretoria'] == wid_diret.value].copy()\n",
    "    print('\\n')\n",
    "    \n",
    "    \n",
    "    # Quantidade de linhas (disciplinas)\n",
    "    rows = df_tmp.shape[0]\n",
    "    rows = f'    Número de disciplinas: {rows}'\n",
    "    print(rows)\n",
    "    print('\\n')\n",
    "    \n",
    "    \n",
    "    # Carga horária total\n",
    "    carga = df_tmp[\"CH total\\n (h/a)\"].sum()\n",
    "    carga = f'    Carga horária total: {carga}'\n",
    "    print(carga)\n",
    "    print('\\n')\n",
    "    \n",
    "    \n",
    "    if(grafico=='Porcentagem de disciplinas por curso'):\n",
    "        curso = df_tmp['Curso'].value_counts()\n",
    "        labels = curso.index\n",
    "        # Definindo espaçamento dos elementos\n",
    "        explode = ()\n",
    "        for x in labels:\n",
    "            explode = explode + (0.05, )\n",
    "        # Criando o gráfico pizza\n",
    "        colors = sns.color_palette(\"pastel\")\n",
    "        plt.pie(x= curso, explode=explode, labels=labels, autopct='%1.1f%%', shadow=True, colors=colors, radius=2)\n",
    "        plt.show()\n",
    "        plt.suptitle(grafico, size = 10)\n",
    "    \n",
    "    \n",
    "    elif(grafico=='Carga horária média por curso'):\n",
    "        # Definindo variáveis do gráfico\n",
    "        curso = df_tmp['Curso'].value_counts()\n",
    "        labels = curso.index\n",
    "        x = labels\n",
    "        y = []\n",
    "        for n in range(0, x.size):\n",
    "            ch_pCurso = df_tmp[df_tmp[\"Curso\"]==x[n]]\n",
    "            ch_pCurso = ch_pCurso[\"CH total\\n (h/a)\"].mean()\n",
    "            y = y + [ch_pCurso, ]\n",
    "        disc_p_turno = df_tmp[\"CH total\\n (h/a)\"].value_counts()\n",
    "        # Plotando gráfico de barra vertical\n",
    "        colors = sns.color_palette(\"pastel\")\n",
    "        plt.bar(x, y, width=1, linewidth=0.7, edgecolor=\"white\", color=colors, )\n",
    "        plt.xticks(x)\n",
    "        plt.grid(axis='y')\n",
    "        plt.ylabel(\"CH média\")\n",
    "        plt.xlabel(\"Curso\")\n",
    "        plt.title(grafico, size = 15)\n",
    "        plt.show()\n",
    "        \n",
    "        \n",
    "    elif(grafico=='Número de disciplinas por turno'):\n",
    "        # Definindo variáveis do gráfico\n",
    "        y = []\n",
    "        x = ['Matutino', 'Vespertino', 'Noturno']\n",
    "        for n in range(0,3):\n",
    "            disc_pTurno = len(df_tmp[df_tmp[\"Turno\"]==x[n]])\n",
    "            y = y + [disc_pTurno, ]\n",
    "        # Plotando gráfico de barra horizontal\n",
    "        colors = sns.color_palette(\"pastel\")\n",
    "        plt.barh(x, y, color=colors)\n",
    "        plt.grid(axis='x')\n",
    "        plt.title(grafico, size = 15)\n",
    "        plt.show()\n",
    "        \n",
    "    \n",
    "    elif(grafico=='Porcentagem de disciplina por turno'):\n",
    "        curso = df_tmp['Turno'].value_counts()\n",
    "        labels = curso.index\n",
    "        # Definindo espaçamento dos elementos\n",
    "        explode = ()\n",
    "        for x in labels:\n",
    "            explode = explode + (0.05, )\n",
    "        # Criando o gráfico pizza\n",
    "        colors = sns.color_palette(\"pastel\")\n",
    "        plt.pie(x= curso, explode=explode, labels=labels, autopct='%1.1f%%', shadow=True, colors=colors, radius=2)\n",
    "        plt.show()\n",
    "        \n",
    "interactive_plot = widgets.interactive(func, diretoria=wid_diret, grafico=wid_graph)"
   ]
  },
  {
   "cell_type": "markdown",
   "id": "55c0c653",
   "metadata": {},
   "source": [
    "## Diretorias de Ensino do IFRN\n",
    "\n",
    "### Selecione uma diretoria para visualizar os dados"
   ]
  },
  {
   "cell_type": "code",
   "execution_count": 9,
   "id": "b448340f",
   "metadata": {},
   "outputs": [
    {
     "data": {
      "application/vnd.jupyter.widget-view+json": {
       "model_id": "cf1d14ed879646fabf41cbec7c3d7b4d",
       "version_major": 2,
       "version_minor": 0
      },
      "text/plain": [
       "interactive(children=(Dropdown(description='diretoria', options=('DIACON', 'DIATINF', 'DIAC', 'DIACIN', 'DIARE…"
      ]
     },
     "metadata": {},
     "output_type": "display_data"
    }
   ],
   "source": [
    "interactive_plot"
   ]
  },
  {
   "cell_type": "code",
   "execution_count": null,
   "id": "5c866ec4",
   "metadata": {},
   "outputs": [],
   "source": []
  }
 ],
 "metadata": {
  "kernelspec": {
   "display_name": "Python 3 (ipykernel)",
   "language": "python",
   "name": "python3"
  },
  "language_info": {
   "codemirror_mode": {
    "name": "ipython",
    "version": 3
   },
   "file_extension": ".py",
   "mimetype": "text/x-python",
   "name": "python",
   "nbconvert_exporter": "python",
   "pygments_lexer": "ipython3",
   "version": "3.10.6"
  }
 },
 "nbformat": 4,
 "nbformat_minor": 5
}
